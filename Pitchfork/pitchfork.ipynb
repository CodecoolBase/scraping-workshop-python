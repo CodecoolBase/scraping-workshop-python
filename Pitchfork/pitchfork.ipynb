{
 "cells": [
  {
   "cell_type": "code",
   "execution_count": 6,
   "metadata": {},
   "outputs": [],
   "source": [
    "import requests\n",
    "from bs4 import BeautifulSoup"
   ]
  },
  {
   "cell_type": "code",
   "execution_count": 7,
   "metadata": {},
   "outputs": [],
   "source": [
    "page = requests.get('https://pitchfork.com/')"
   ]
  },
  {
   "cell_type": "code",
   "execution_count": 8,
   "metadata": {},
   "outputs": [],
   "source": [
    "soup = BeautifulSoup(page.text, 'html5lib')"
   ]
  },
  {
   "cell_type": "code",
   "execution_count": 9,
   "metadata": {},
   "outputs": [
    {
     "name": "stdout",
     "output_type": "stream",
     "text": [
      "/news/chance-the-rapper-advocates-for-chicago-elementary-school-in-new-op-ed/\n",
      "/news/new-kamasi-washington-short-film-to-debut-at-sundance-2019/\n",
      "/news/doves-announce-reunion-show/\n",
      "/news/kanye-west-to-feature-on-xxxtentacions-new-album/\n",
      "/news/anderson-paak-announces-tour/\n",
      "/news/hold-steady-bratmobile-albums-subject-of-new-podcasts/\n",
      "https://oct.co/essays/having-beer-with-will-oldham-interview?utm=source_p4k\n",
      "/levels/yung-baby-tate-that-girl-new-song-listen/\n",
      "/news/princes-music-to-soundtrack-new-film-musical/\n",
      "/news/pete-davidson-releases-powerful-statement-about-bullying-and-mental-health/\n",
      "/news/watch-the-1975s-surreal-new-its-not-living-if-its-not-with-you-video/\n",
      "/news/the-nationals-matt-berninger-julien-baker-team-up-on-new-song-to-launch-new-planned-parenthood-benefit-series/\n",
      "/news/drake-settles-lawsuit-against-hebrew-hustle-publishing-company-report/\n",
      "/news/jenny-lewis-announces-new-album-and-tour/\n"
     ]
    }
   ],
   "source": [
    "links = []\n",
    "for title in soup.select('.module__title-link'):\n",
    "    link = title.get('href')\n",
    "    print(link)\n",
    "    links.append(link)"
   ]
  },
  {
   "cell_type": "code",
   "execution_count": 10,
   "metadata": {},
   "outputs": [],
   "source": [
    "import time\n",
    "import re"
   ]
  },
  {
   "cell_type": "code",
   "execution_count": 11,
   "metadata": {},
   "outputs": [
    {
     "name": "stdout",
     "output_type": "stream",
     "text": [
      "https://pitchfork.com/news/chance-the-rapper-advocates-for-chicago-elementary-school-in-new-op-ed/\n",
      "0\n",
      "https://pitchfork.com/news/new-kamasi-washington-short-film-to-debut-at-sundance-2019/\n",
      "0\n",
      "https://pitchfork.com/news/doves-announce-reunion-show/\n",
      "0\n",
      "https://pitchfork.com/news/kanye-west-to-feature-on-xxxtentacions-new-album/\n",
      "8\n",
      "https://pitchfork.com/news/anderson-paak-announces-tour/\n",
      "0\n",
      "https://pitchfork.com/news/hold-steady-bratmobile-albums-subject-of-new-podcasts/\n",
      "0\n",
      "https://pitchfork.com/levels/yung-baby-tate-that-girl-new-song-listen/\n",
      "0\n",
      "https://pitchfork.com/news/princes-music-to-soundtrack-new-film-musical/\n",
      "0\n",
      "https://pitchfork.com/news/pete-davidson-releases-powerful-statement-about-bullying-and-mental-health/\n",
      "0\n",
      "https://pitchfork.com/news/watch-the-1975s-surreal-new-its-not-living-if-its-not-with-you-video/\n",
      "0\n",
      "https://pitchfork.com/news/the-nationals-matt-berninger-julien-baker-team-up-on-new-song-to-launch-new-planned-parenthood-benefit-series/\n",
      "0\n",
      "https://pitchfork.com/news/drake-settles-lawsuit-against-hebrew-hustle-publishing-company-report/\n",
      "0\n",
      "https://pitchfork.com/news/jenny-lewis-announces-new-album-and-tour/\n",
      "0\n"
     ]
    }
   ],
   "source": [
    "sum_of_kanyes = 0\n",
    "for link in links:\n",
    "    time.sleep(2)\n",
    "    if not link.startswith('/'):\n",
    "        continue\n",
    "    \n",
    "    page = requests.get('https://pitchfork.com' + link)\n",
    "    soup = BeautifulSoup(page.text, 'html5lib')\n",
    "    kanyes = soup.body.findAll(text=re.compile('Kanye'))\n",
    "    \n",
    "    print(page.url)\n",
    "    print(len(kanyes))\n",
    "    sum_of_kanyes += len(kanyes)"
   ]
  },
  {
   "cell_type": "code",
   "execution_count": 12,
   "metadata": {},
   "outputs": [
    {
     "name": "stdout",
     "output_type": "stream",
     "text": [
      "Number of 'Kanye' mentions: 8\n"
     ]
    }
   ],
   "source": [
    "print(\"Number of 'Kanye' mentions: \" + str(sum_of_kanyes))"
   ]
  },
  {
   "cell_type": "code",
   "execution_count": null,
   "metadata": {},
   "outputs": [],
   "source": []
  }
 ],
 "metadata": {
  "kernelspec": {
   "display_name": "Python 3",
   "language": "python",
   "name": "python3"
  },
  "language_info": {
   "codemirror_mode": {
    "name": "ipython",
    "version": 3
   },
   "file_extension": ".py",
   "mimetype": "text/x-python",
   "name": "python",
   "nbconvert_exporter": "python",
   "pygments_lexer": "ipython3",
   "version": "3.6.3"
  }
 },
 "nbformat": 4,
 "nbformat_minor": 2
}
