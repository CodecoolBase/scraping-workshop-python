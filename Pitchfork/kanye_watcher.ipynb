{
 "cells": [
  {
   "cell_type": "code",
   "execution_count": 6,
   "metadata": {},
   "outputs": [],
   "source": [
    "import requests\n",
    "from bs4 import BeautifulSoup\n",
    "import time\n",
    "import re"
   ]
  },
  {
   "cell_type": "code",
   "execution_count": 7,
   "metadata": {},
   "outputs": [],
   "source": [
    "def watch_kanye():\n",
    "    page = requests.get('https://pitchfork.com/')\n",
    "    soup = BeautifulSoup(page.text, 'html5lib')\n",
    "    links = []\n",
    "    for title in soup.select('.module__title-link'):\n",
    "        link = title.get('href')\n",
    "        print(link)\n",
    "        links.append(link)\n",
    "        \n",
    "    \n",
    "    sum_of_kanyes = 0\n",
    "    for link in links:\n",
    "        time.sleep(2)\n",
    "        if not link.startswith('/'):\n",
    "            continue\n",
    "\n",
    "        page = requests.get('https://pitchfork.com' + link)\n",
    "        soup = BeautifulSoup(page.text, 'html5lib')\n",
    "        kanyes = soup.body.findAll(text=re.compile('Kanye'))\n",
    "\n",
    "        print(page.url)\n",
    "        print(len(kanyes))\n",
    "        sum_of_kanyes += len(kanyes)\n",
    "    \n",
    "    print(\"Number of 'Kanye' mentions: \" + str(sum_of_kanyes))"
   ]
  },
  {
   "cell_type": "code",
   "execution_count": 8,
   "metadata": {},
   "outputs": [
    {
     "name": "stdout",
     "output_type": "stream",
     "text": [
      "I'm looking for you, Kanye!!!\n",
      "/news/chance-the-rapper-advocates-for-chicago-elementary-school-in-new-op-ed/\n",
      "/news/new-kamasi-washington-short-film-to-debut-at-sundance-2019/\n",
      "/news/doves-announce-reunion-show/\n",
      "/news/kanye-west-to-feature-on-xxxtentacions-new-album/\n",
      "/news/anderson-paak-announces-tour/\n",
      "/news/hold-steady-bratmobile-albums-subject-of-new-podcasts/\n",
      "https://oct.co/essays/having-beer-with-will-oldham-interview?utm=source_p4k\n",
      "/levels/yung-baby-tate-that-girl-new-song-listen/\n",
      "/news/princes-music-to-soundtrack-new-film-musical/\n",
      "/news/pete-davidson-releases-powerful-statement-about-bullying-and-mental-health/\n",
      "/news/watch-the-1975s-surreal-new-its-not-living-if-its-not-with-you-video/\n",
      "/news/the-nationals-matt-berninger-julien-baker-team-up-on-new-song-to-launch-new-planned-parenthood-benefit-series/\n",
      "/news/drake-settles-lawsuit-against-hebrew-hustle-publishing-company-report/\n",
      "/news/jenny-lewis-announces-new-album-and-tour/\n",
      "https://pitchfork.com/news/chance-the-rapper-advocates-for-chicago-elementary-school-in-new-op-ed/\n",
      "0\n",
      "https://pitchfork.com/news/new-kamasi-washington-short-film-to-debut-at-sundance-2019/\n",
      "0\n",
      "https://pitchfork.com/news/doves-announce-reunion-show/\n",
      "0\n",
      "https://pitchfork.com/news/kanye-west-to-feature-on-xxxtentacions-new-album/\n",
      "8\n",
      "https://pitchfork.com/news/anderson-paak-announces-tour/\n",
      "0\n",
      "https://pitchfork.com/news/hold-steady-bratmobile-albums-subject-of-new-podcasts/\n",
      "0\n",
      "https://pitchfork.com/levels/yung-baby-tate-that-girl-new-song-listen/\n",
      "0\n",
      "https://pitchfork.com/news/princes-music-to-soundtrack-new-film-musical/\n",
      "0\n",
      "https://pitchfork.com/news/pete-davidson-releases-powerful-statement-about-bullying-and-mental-health/\n",
      "0\n",
      "https://pitchfork.com/news/watch-the-1975s-surreal-new-its-not-living-if-its-not-with-you-video/\n",
      "0\n",
      "https://pitchfork.com/news/the-nationals-matt-berninger-julien-baker-team-up-on-new-song-to-launch-new-planned-parenthood-benefit-series/\n",
      "0\n",
      "https://pitchfork.com/news/drake-settles-lawsuit-against-hebrew-hustle-publishing-company-report/\n",
      "0\n",
      "https://pitchfork.com/news/jenny-lewis-announces-new-album-and-tour/\n",
      "0\n",
      "Number of 'Kanye' mentions: 8\n",
      "I'm looking for you, Kanye!!!\n",
      "/news/chance-the-rapper-advocates-for-chicago-elementary-school-in-new-op-ed/\n",
      "/news/new-kamasi-washington-short-film-to-debut-at-sundance-2019/\n",
      "/news/doves-announce-reunion-show/\n",
      "/news/kanye-west-to-feature-on-xxxtentacions-new-album/\n",
      "/news/anderson-paak-announces-tour/\n",
      "/news/hold-steady-bratmobile-albums-subject-of-new-podcasts/\n",
      "https://oct.co/essays/having-beer-with-will-oldham-interview?utm=source_p4k\n",
      "/levels/yung-baby-tate-that-girl-new-song-listen/\n",
      "/news/princes-music-to-soundtrack-new-film-musical/\n",
      "/news/pete-davidson-releases-powerful-statement-about-bullying-and-mental-health/\n",
      "/news/watch-the-1975s-surreal-new-its-not-living-if-its-not-with-you-video/\n",
      "/news/the-nationals-matt-berninger-julien-baker-team-up-on-new-song-to-launch-new-planned-parenthood-benefit-series/\n",
      "/news/drake-settles-lawsuit-against-hebrew-hustle-publishing-company-report/\n",
      "/news/jenny-lewis-announces-new-album-and-tour/\n",
      "https://pitchfork.com/news/chance-the-rapper-advocates-for-chicago-elementary-school-in-new-op-ed/\n",
      "0\n",
      "https://pitchfork.com/news/new-kamasi-washington-short-film-to-debut-at-sundance-2019/\n",
      "0\n",
      "https://pitchfork.com/news/doves-announce-reunion-show/\n",
      "0\n"
     ]
    },
    {
     "ename": "KeyboardInterrupt",
     "evalue": "",
     "output_type": "error",
     "traceback": [
      "\u001b[0;31m---------------------------------------------------------------------------\u001b[0m",
      "\u001b[0;31mKeyboardInterrupt\u001b[0m                         Traceback (most recent call last)",
      "\u001b[0;32m<ipython-input-8-f6cd64e51c0a>\u001b[0m in \u001b[0;36m<module>\u001b[0;34m\u001b[0m\n\u001b[1;32m      2\u001b[0m     \u001b[0mprint\u001b[0m\u001b[0;34m(\u001b[0m\u001b[0;34m\"I'm looking for you, Kanye!!!\"\u001b[0m\u001b[0;34m)\u001b[0m\u001b[0;34m\u001b[0m\u001b[0;34m\u001b[0m\u001b[0m\n\u001b[1;32m      3\u001b[0m \u001b[0;34m\u001b[0m\u001b[0m\n\u001b[0;32m----> 4\u001b[0;31m     \u001b[0mwatch_kanye\u001b[0m\u001b[0;34m(\u001b[0m\u001b[0;34m)\u001b[0m\u001b[0;34m\u001b[0m\u001b[0;34m\u001b[0m\u001b[0m\n\u001b[0m\u001b[1;32m      5\u001b[0m \u001b[0;34m\u001b[0m\u001b[0m\n\u001b[1;32m      6\u001b[0m     \u001b[0mtime\u001b[0m\u001b[0;34m.\u001b[0m\u001b[0msleep\u001b[0m\u001b[0;34m(\u001b[0m\u001b[0;36m30\u001b[0m\u001b[0;34m)\u001b[0m\u001b[0;34m\u001b[0m\u001b[0;34m\u001b[0m\u001b[0m\n",
      "\u001b[0;32m<ipython-input-7-eff327921654>\u001b[0m in \u001b[0;36mwatch_kanye\u001b[0;34m()\u001b[0m\n\u001b[1;32m     11\u001b[0m     \u001b[0msum_of_kanyes\u001b[0m \u001b[0;34m=\u001b[0m \u001b[0;36m0\u001b[0m\u001b[0;34m\u001b[0m\u001b[0;34m\u001b[0m\u001b[0m\n\u001b[1;32m     12\u001b[0m     \u001b[0;32mfor\u001b[0m \u001b[0mlink\u001b[0m \u001b[0;32min\u001b[0m \u001b[0mlinks\u001b[0m\u001b[0;34m:\u001b[0m\u001b[0;34m\u001b[0m\u001b[0;34m\u001b[0m\u001b[0m\n\u001b[0;32m---> 13\u001b[0;31m         \u001b[0mtime\u001b[0m\u001b[0;34m.\u001b[0m\u001b[0msleep\u001b[0m\u001b[0;34m(\u001b[0m\u001b[0;36m2\u001b[0m\u001b[0;34m)\u001b[0m\u001b[0;34m\u001b[0m\u001b[0;34m\u001b[0m\u001b[0m\n\u001b[0m\u001b[1;32m     14\u001b[0m         \u001b[0;32mif\u001b[0m \u001b[0;32mnot\u001b[0m \u001b[0mlink\u001b[0m\u001b[0;34m.\u001b[0m\u001b[0mstartswith\u001b[0m\u001b[0;34m(\u001b[0m\u001b[0;34m'/'\u001b[0m\u001b[0;34m)\u001b[0m\u001b[0;34m:\u001b[0m\u001b[0;34m\u001b[0m\u001b[0;34m\u001b[0m\u001b[0m\n\u001b[1;32m     15\u001b[0m             \u001b[0;32mcontinue\u001b[0m\u001b[0;34m\u001b[0m\u001b[0;34m\u001b[0m\u001b[0m\n",
      "\u001b[0;31mKeyboardInterrupt\u001b[0m: "
     ]
    }
   ],
   "source": [
    "while True:\n",
    "    print(\"I'm looking for you, Kanye!!!\")\n",
    "    \n",
    "    watch_kanye()\n",
    "    \n",
    "    time.sleep(30)"
   ]
  },
  {
   "cell_type": "code",
   "execution_count": null,
   "metadata": {},
   "outputs": [],
   "source": []
  }
 ],
 "metadata": {
  "kernelspec": {
   "display_name": "Python 3",
   "language": "python",
   "name": "python3"
  },
  "language_info": {
   "codemirror_mode": {
    "name": "ipython",
    "version": 3
   },
   "file_extension": ".py",
   "mimetype": "text/x-python",
   "name": "python",
   "nbconvert_exporter": "python",
   "pygments_lexer": "ipython3",
   "version": "3.6.7"
  }
 },
 "nbformat": 4,
 "nbformat_minor": 2
}
